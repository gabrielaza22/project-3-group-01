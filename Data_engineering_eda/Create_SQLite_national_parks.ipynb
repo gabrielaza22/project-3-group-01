{
 "cells": [
  {
   "cell_type": "code",
   "execution_count": 1,
   "id": "beaa74fa-2d0f-4490-aaf4-443c9c65c8e2",
   "metadata": {},
   "outputs": [],
   "source": [
    "# Data science\n",
    "import pandas as pd\n",
    "\n",
    "# API\n",
    "import requests\n",
    "import json\n",
    "\n",
    "# Python SQL toolkit and Object Relational Mapper\n",
    "import sqlalchemy\n",
    "from sqlalchemy.ext.automap import automap_base\n",
    "from sqlalchemy.orm import Session\n",
    "from sqlalchemy import create_engine, text, inspect, func"
   ]
  },
  {
   "cell_type": "code",
   "execution_count": 2,
   "id": "a42e150a-7ae4-46fa-8400-6455611c02f9",
   "metadata": {},
   "outputs": [
    {
     "name": "stderr",
     "output_type": "stream",
     "text": [
      "C:\\Users\\Elizabeth\\AppData\\Local\\Temp\\ipykernel_11488\\145762656.py:3: DtypeWarning: Columns (13) have mixed types. Specify dtype option on import or set low_memory=False.\n",
      "  df2 = pd.read_csv('Resources/species.csv')\n"
     ]
    }
   ],
   "source": [
    "# Read the CSV files\n",
    "df1 = pd.read_csv('Resources/parks.csv')\n",
    "df2 = pd.read_csv('Resources/species.csv')"
   ]
  },
  {
   "cell_type": "code",
   "execution_count": 3,
   "id": "3cf15bbf-58ed-4b02-8157-ee9b5265888f",
   "metadata": {},
   "outputs": [
    {
     "data": {
      "text/plain": [
       "119248"
      ]
     },
     "execution_count": 3,
     "metadata": {},
     "output_type": "execute_result"
    }
   ],
   "source": [
    "# Create engine for conection to the SQLite\n",
    "engine = create_engine('sqlite:///national_parks.sqlite')\n",
    "\n",
    "# Guardar los DataFrames en la base de datos\n",
    "df1.to_sql('parks', engine, index=False, if_exists='replace')\n",
    "df2.to_sql('species', engine, index=False, if_exists='replace')"
   ]
  },
  {
   "cell_type": "code",
   "execution_count": 4,
   "id": "842e1491-1fcb-40a9-b717-ef3a1581a444",
   "metadata": {},
   "outputs": [
    {
     "name": "stdout",
     "output_type": "stream",
     "text": [
      "  Park Code               Park Name State   Acres  Latitude  Longitude\n",
      "0      ACAD    Acadia National Park    ME   47390     44.35     -68.21\n",
      "1      ARCH    Arches National Park    UT   76519     38.68    -109.57\n",
      "2      BADL  Badlands National Park    SD  242756     43.75    -102.50\n",
      "3      BIBE  Big Bend National Park    TX  801163     29.25    -103.25\n",
      "4      BISC  Biscayne National Park    FL  172924     25.65     -80.08\n"
     ]
    }
   ],
   "source": [
    "# Leer los datos desde la base de datos\n",
    "with engine.connect() as connection:\n",
    "    result1 = pd.read_sql('SELECT * FROM parks', connection)\n",
    "    result2 = pd.read_sql('SELECT * FROM species', connection)\n",
    "\n",
    "# Mostrar los resultados\n",
    "print(result1.head())\n",
    "#print(result2.head())"
   ]
  },
  {
   "cell_type": "code",
   "execution_count": null,
   "id": "8cbb5a98-ae76-4852-993e-5aeaf37f3276",
   "metadata": {},
   "outputs": [],
   "source": []
  }
 ],
 "metadata": {
  "kernelspec": {
   "display_name": "Python 3 (ipykernel)",
   "language": "python",
   "name": "python3"
  },
  "language_info": {
   "codemirror_mode": {
    "name": "ipython",
    "version": 3
   },
   "file_extension": ".py",
   "mimetype": "text/x-python",
   "name": "python",
   "nbconvert_exporter": "python",
   "pygments_lexer": "ipython3",
   "version": "3.10.14"
  }
 },
 "nbformat": 4,
 "nbformat_minor": 5
}
